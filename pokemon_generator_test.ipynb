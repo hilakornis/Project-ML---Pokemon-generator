{
  "nbformat": 4,
  "nbformat_minor": 0,
  "metadata": {
    "colab": {
      "provenance": []
    },
    "kernelspec": {
      "name": "python3",
      "display_name": "Python 3"
    },
    "language_info": {
      "name": "python"
    }
  },
  "cells": [
    {
      "cell_type": "markdown",
      "source": [
        "# get data and eda"
      ],
      "metadata": {
        "id": "gITBk37mt2NY"
      }
    },
    {
      "cell_type": "code",
      "execution_count": null,
      "metadata": {
        "id": "-jPGTz8PolNn"
      },
      "outputs": [],
      "source": [
        "!cp \"/content/drive/MyDrive/Pokemon Project/pokemon_sprite_archive.zip\" \"pokemon_sprite_archive.zip\""
      ]
    },
    {
      "cell_type": "code",
      "source": [
        "from zipfile import ZipFile\n",
        "\n",
        "with ZipFile(\"/content/pokemon_sprite_archive.zip\", 'r') as zObject:\n",
        "\n",
        "    # Extracting all the members of the zip\n",
        "    # into a specific location.\n",
        "    zObject.extractall(path=\".\")"
      ],
      "metadata": {
        "id": "lwYXES6_q76H"
      },
      "execution_count": null,
      "outputs": []
    },
    {
      "cell_type": "code",
      "source": [
        "import pandas as pd\n",
        "pokedex_data_Df = pd.read_csv(\"/content/pokemon_images/pokedex.csv\")"
      ],
      "metadata": {
        "id": "53MOD7NKrdSl"
      },
      "execution_count": null,
      "outputs": []
    },
    {
      "cell_type": "code",
      "source": [
        "import glob\n",
        "images_paths = glob.glob(\"/content/pokemon_images/sprites/*/front/normal/*.png\")"
      ],
      "metadata": {
        "id": "L87A8uQdsKdR"
      },
      "execution_count": null,
      "outputs": []
    },
    {
      "cell_type": "code",
      "source": [
        "import matplotlib.pyplot as plt\n",
        "image = plt.imread(images_paths[0])\n",
        "plt.imshow(image)\n",
        "# plt.colorbar()"
      ],
      "metadata": {
        "colab": {
          "base_uri": "https://localhost:8080/",
          "height": 451
        },
        "id": "3-kXx7RXs2Mz",
        "outputId": "675bcb1c-5873-475a-bebe-49ed280da6cc"
      },
      "execution_count": null,
      "outputs": [
        {
          "output_type": "execute_result",
          "data": {
            "text/plain": [
              "<matplotlib.image.AxesImage at 0x79f317b58b20>"
            ]
          },
          "metadata": {},
          "execution_count": 26
        },
        {
          "output_type": "display_data",
          "data": {
            "text/plain": [
              "<Figure size 640x480 with 1 Axes>"
            ],
            "image/png": "[encoded data removed]"
          },
          "metadata": {}
        }
      ]
    },
    {
      "cell_type": "code",
      "source": [
        "import torch\n",
        "\n",
        "torch.tensor(image).type()"
      ],
      "metadata": {
        "colab": {
          "base_uri": "https://localhost:8080/",
          "height": 35
        },
        "id": "aaUvMoHEtb6E",
        "outputId": "6daebff9-488f-4614-d2cb-1285a364e284"
      },
      "execution_count": null,
      "outputs": [
        {
          "output_type": "execute_result",
          "data": {
            "text/plain": [
              "'torch.FloatTensor'"
            ],
            "application/vnd.google.colaboratory.intrinsic+json": {
              "type": "string"
            }
          },
          "metadata": {},
          "execution_count": 27
        }
      ]
    },
    {
      "cell_type": "markdown",
      "source": [
        "# model\n",
        "\n",
        "* Variational Auto Encoder (VAE)\n",
        "* quantized auto encoder (VQ-VAE)\n",
        "* Gan\n",
        "* Diffusion (step wise generation)"
      ],
      "metadata": {
        "id": "vuQqyTq-uBDn"
      }
    },
    {
      "cell_type": "code",
      "source": [
        "vq-vae, vae, gan, diffusion"
      ],
      "metadata": {
        "id": "tZm66aq-uToP"
      },
      "execution_count": null,
      "outputs": []
    },
    {
      "cell_type": "code",
      "source": [
        "\"/content/drive/MyDrive/Pokemon Project/somefile.png\""
      ],
      "metadata": {
        "id": "9DjQosmcFJR3"
      },
      "execution_count": null,
      "outputs": []
    }
  ]
}